{
  "nbformat": 4,
  "nbformat_minor": 0,
  "metadata": {
    "colab": {
      "name": "Python Lab 1",
      "provenance": [],
      "authorship_tag": "ABX9TyOJ1QhncXqSp1/W+zDn3i2W",
      "include_colab_link": true
    },
    "kernelspec": {
      "name": "python3",
      "display_name": "Python 3"
    }
  },
  "cells": [
    {
      "cell_type": "markdown",
      "metadata": {
        "id": "view-in-github",
        "colab_type": "text"
      },
      "source": [
        "<a href=\"https://colab.research.google.com/github/IDCE-MSGIS/lab1-python-calculations-rcorcoranadams/blob/master/Python_Lab_1.ipynb\" target=\"_parent\"><img src=\"https://colab.research.google.com/assets/colab-badge.svg\" alt=\"Open In Colab\"/></a>"
      ]
    },
    {
      "cell_type": "code",
      "metadata": {
        "id": "cNR_YkTRoKdX",
        "colab_type": "code",
        "colab": {
          "base_uri": "https://localhost:8080/",
          "height": 238
        },
        "outputId": "67fbd070-4c05-46e8-b8eb-4cbf38cfcbf7"
      },
      "source": [
        "'''\n",
        "Author: Rachel Corcoran-Adams\n",
        "Date Created: 28 August 2020\n",
        "Version of Python: 3.8.5\n",
        "Note: This code calculates agricultural land and rain runoff in Kenya\n",
        "'''\n",
        "\n",
        "# This line defines the variables and values for length, width and area converted to inches \n",
        "l = 50\n",
        "w = 20\n",
        "a = l * w\n",
        "\n",
        "# This part prints the created variables and their respective values\n",
        "print(l)\n",
        "print(w)\n",
        "print(a)\n",
        "\n",
        "# This part converts the measurements to inches\n",
        "length_inch = l * 12.00\n",
        "width_inch = w * 12.00\n",
        "area_inch = a * 12.00\n",
        "rain_inch = 1.0\n",
        "runoff_inch = length_inch * width_inch * rain_inch\n",
        "\n",
        "# This part prints each of the new variables and their converted values\n",
        "print(length_inch)\n",
        "print(width_inch)\n",
        "print(area_inch)\n",
        "print(rain_inch)\n",
        "print(runoff_inch)\n",
        "\n",
        "# This line converts runoff to gallons, and in one cubic inch there are .004 gallons\n",
        "runoff_gallons = runoff_inch * 0.004 \n",
        "# This line prints the result\n",
        "print(runoff_gallons)\n",
        "\n",
        "# This part prints the final results of the calculations\n",
        "print(\"Plot length is\", length_inch)\n",
        "print(\"Plot width is:\", width_inch)\n",
        "print(\"Rainfall in inches is\", rain_inch)\n",
        "print(\"Runoff in gallons is\", runoff_gallons)\n",
        "\n"
      ],
      "execution_count": null,
      "outputs": [
        {
          "output_type": "stream",
          "text": [
            "50\n",
            "20\n",
            "1000\n",
            "600.0\n",
            "240.0\n",
            "12000.0\n",
            "1.0\n",
            "144000.0\n",
            "576.0\n",
            "Plot length is 600.0\n",
            "Plot width is: 240.0\n",
            "Rainfall in inches is 1.0\n",
            "Runoff in gallons is 576.0\n"
          ],
          "name": "stdout"
        }
      ]
    }
  ]
}
